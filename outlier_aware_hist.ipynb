{
 "cells": [
  {
   "cell_type": "markdown",
   "metadata": {},
   "source": [
    "# Outlier Aware Histogram in Python\n",
    "\n",
    "I wrote this because I was looking at datasets with a few outliers that were really throwing off the histograms I was drawing. Idea from Edwin Thoen @ https://edwinth.github.io/blog/outlier-bin/."
   ]
  },
  {
   "cell_type": "code",
   "execution_count": 128,
   "metadata": {},
   "outputs": [],
   "source": [
    "import numpy as np\n",
    "from matplotlib import pyplot as plt\n",
    "%matplotlib inline\n"
   ]
  },
  {
   "cell_type": "markdown",
   "metadata": {},
   "source": [
    "First, we generate some data from a standard normal and then add some outliers of varying scales."
   ]
  },
  {
   "cell_type": "code",
   "execution_count": 127,
   "metadata": {},
   "outputs": [],
   "source": [
    "data = np.random.normal(size=1000)\n",
    "data = np.append(data, [5, 25, 50, 100, 150, -5, -25, -50, -100, -150])\n"
   ]
  },
  {
   "cell_type": "markdown",
   "metadata": {},
   "source": [
    "What happens if we naively try to plot the data."
   ]
  },
  {
   "cell_type": "code",
   "execution_count": 129,
   "metadata": {},
   "outputs": [
    {
     "data": {
      "text/plain": [
       "(array([ 1.,  0.,  0., ...,  0.,  0.,  1.]),\n",
       " array([-150.        , -149.73614776, -149.47229551, ...,  149.47229551,\n",
       "         149.73614776,  150.        ]),\n",
       " <a list of 1137 Patch objects>)"
      ]
     },
     "execution_count": 129,
     "metadata": {},
     "output_type": "execute_result"
    },
    {
     "data": {
      "image/png": "[encoded data removed]",
      "text/plain": [
       "<matplotlib.figure.Figure at 0x2b03ead14da0>"
      ]
     },
     "metadata": {},
     "output_type": "display_data"
    }
   ],
   "source": [
    "plt.hist(data, bins='auto')\n"
   ]
  },
  {
   "cell_type": "markdown",
   "metadata": {},
   "source": [
    "The plotting code is below, but first I want a way to programatically define outliers. I borrowed code from a number of SO answers (including https://stackoverflow.com/questions/11882393/matplotlib-disregard-outliers-when-plotting) to use a robust estimator for the standard deviation to test for outliers (explanation https://www.pdf-archive.com/2016/07/29/outlier-methods-external/outlier-methods-external.pdf). The function `calculate_bounds` returns the bounds between which the data are not likely outliers."
   ]
  },
  {
   "cell_type": "code",
   "execution_count": 130,
   "metadata": {},
   "outputs": [
    {
     "data": {
      "text/plain": [
       "0.66207622511039554"
      ]
     },
     "execution_count": 130,
     "metadata": {},
     "output_type": "execute_result"
    }
   ],
   "source": [
    "def mad(data):\n",
    "    median = np.median(data)\n",
    "    diff = np.abs(data - median)\n",
    "    mad = np.median(diff)\n",
    "    return mad\n",
    "\n",
    "mad(data)\n"
   ]
  },
  {
   "cell_type": "code",
   "execution_count": 131,
   "metadata": {},
   "outputs": [
    {
     "data": {
      "text/plain": [
       "(-3.3959667236959765, 3.4750986221494928)"
      ]
     },
     "execution_count": 131,
     "metadata": {},
     "output_type": "execute_result"
    }
   ],
   "source": [
    "def calculate_bounds(data, z_thresh=3.5):\n",
    "    MAD = mad(data)\n",
    "    median = np.median(data)\n",
    "    const = z_thresh * MAD / 0.6745\n",
    "    return (median - const, median + const)\n",
    "\n",
    "calculate_bounds(data)\n"
   ]
  },
  {
   "cell_type": "markdown",
   "metadata": {},
   "source": [
    "We can use this function to limit our histogram's range to drop outliers, but this throws away data that might be significant."
   ]
  },
  {
   "cell_type": "code",
   "execution_count": 132,
   "metadata": {},
   "outputs": [
    {
     "data": {
      "image/png": "[encoded data removed]",
      "text/plain": [
       "<matplotlib.figure.Figure at 0x2b03e9cc5438>"
      ]
     },
     "metadata": {},
     "output_type": "display_data"
    }
   ],
   "source": [
    "n, bins, patches = plt.hist(data, bins='auto', range=calculate_bounds(data))\n"
   ]
  },
  {
   "cell_type": "markdown",
   "metadata": {},
   "source": [
    "Below is a function to include all the data points in a histogram, but to note where the outliers fall in the extreme bins. You can add your own bounds, or use the automatic outlier detection."
   ]
  },
  {
   "cell_type": "code",
   "execution_count": 133,
   "metadata": {},
   "outputs": [
    {
     "data": {
      "image/png": "[encoded data removed]",
      "text/plain": [
       "<matplotlib.figure.Figure at 0x2b03ea94ccc0>"
      ]
     },
     "metadata": {},
     "output_type": "display_data"
    }
   ],
   "source": [
    "def outlier_aware_hist(data, lower=None, upper=None):\n",
    "    if not lower or lower < data.min():\n",
    "        lower = data.min()\n",
    "        lower_outliers = False\n",
    "    else:\n",
    "        lower_outliers = True\n",
    "        \n",
    "    if not upper or upper > data.max():\n",
    "        upper = data.max()\n",
    "        upper_outliers = False\n",
    "    else:\n",
    "        upper_outliers = True\n",
    "        \n",
    "    n, bins, patches = plt.hist(data, range=(lower, upper), bins='auto')\n",
    "    \n",
    "    if lower_outliers:\n",
    "        n_lower_outliers = (data < lower).sum()\n",
    "        patches[0].set_height(patches[0].get_height() + n_lower_outliers)\n",
    "        patches[0].set_facecolor('c')\n",
    "        patches[0].set_label('Lower outliers: ({:.2f}, {:.2f})'.format(data.min(), lower))\n",
    "    \n",
    "    if upper_outliers:\n",
    "        n_upper_outliers = (data > upper).sum()\n",
    "        patches[-1].set_height(patches[-1].get_height() + n_upper_outliers)\n",
    "        patches[-1].set_facecolor('m')\n",
    "        patches[-1].set_label('Upper outliers: ({:.2f}, {:.2f})'.format(upper, data.max()))\n",
    "            \n",
    "    if lower_outliers or upper_outliers:\n",
    "        plt.legend()\n",
    "\n",
    "outlier_aware_hist(data, *calculate_bounds(data))"
   ]
  },
  {
   "cell_type": "code",
   "execution_count": null,
   "metadata": {},
   "outputs": [],
   "source": []
  }
 ],
 "metadata": {
  "kernelspec": {
   "display_name": "Python 3",
   "language": "python",
   "name": "python3"
  },
  "language_info": {
   "codemirror_mode": {
    "name": "ipython",
    "version": 3
   },
   "file_extension": ".py",
   "mimetype": "text/x-python",
   "name": "python",
   "nbconvert_exporter": "python",
   "pygments_lexer": "ipython3",
   "version": "3.5.1"
  }
 },
 "nbformat": 4,
 "nbformat_minor": 2
}
